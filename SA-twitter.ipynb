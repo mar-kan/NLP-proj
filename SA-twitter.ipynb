{
 "nbformat": 4,
 "nbformat_minor": 0,
 "metadata": {
  "colab": {
   "name": "AI2: HW1 Tutorial.ipynb",
   "provenance": []
  },
  "kernelspec": {
   "name": "python3",
   "display_name": "Python 3"
  },
  "language_info": {
   "name": "python"
  }
 },
 "cells": [
  {
   "cell_type": "markdown",
   "metadata": {
    "id": "rWvGPpg9f5Se"
   },
   "source": [
    "# Artificial Intelligence II: HW1 Tutorial"
   ]
  },
  {
   "cell_type": "code",
   "metadata": {
    "id": "hviYDW1Pfyip"
   },
   "source": [
    "from sklearn.linear_model import LogisticRegression\n",
    "from sklearn.metrics import mean_squared_error\n",
    "import pandas as pd"
   ],
   "execution_count": 72,
   "outputs": []
  },
  {
   "cell_type": "markdown",
   "metadata": {
    "id": "a7gngNBcJXQC"
   },
   "source": [
    "## Loading and Exploring the Dataset"
   ]
  },
  {
   "cell_type": "code",
   "metadata": {
    "colab": {
     "base_uri": "https://localhost:8080/",
     "height": 300
    },
    "id": "KOrpXNGTg5fJ",
    "outputId": "e2c5088d-617d-4364-8388-742bc44633be"
   },
   "source": [
    "train_df = pd.read_csv(\"VaccineSentimentDataset/vaccine_train_set.csv\", index_col=0)\n",
    "train_df"
   ],
   "execution_count": 73,
   "outputs": [
    {
     "data": {
      "text/plain": "                                                   tweet  label\n0      Sip N Shop Come thru right now #Marjais #Popul...      0\n1      I don't know about you but My family and I wil...      1\n2      @MSignorile Immunizations should be mandatory....      2\n3      President Obama spoke in favor of vaccination ...      0\n4      \"@myfoxla: Arizona monitoring hundreds for mea...      0\n...                                                  ...    ...\n15971  @Salon if u believe the anti-vax nutcases caus...      1\n15972  How do you feel about parents who don't #vacci...      0\n15973  70 Preschoolers Tested for Measles in Simi Val...      0\n15974  Finance Minister: Budget offers room to procur...      0\n15975  Are you up to date on vaccines? Take CDC’s vac...      2\n\n[15976 rows x 2 columns]",
      "text/html": "<div>\n<style scoped>\n    .dataframe tbody tr th:only-of-type {\n        vertical-align: middle;\n    }\n\n    .dataframe tbody tr th {\n        vertical-align: top;\n    }\n\n    .dataframe thead th {\n        text-align: right;\n    }\n</style>\n<table border=\"1\" class=\"dataframe\">\n  <thead>\n    <tr style=\"text-align: right;\">\n      <th></th>\n      <th>tweet</th>\n      <th>label</th>\n    </tr>\n  </thead>\n  <tbody>\n    <tr>\n      <th>0</th>\n      <td>Sip N Shop Come thru right now #Marjais #Popul...</td>\n      <td>0</td>\n    </tr>\n    <tr>\n      <th>1</th>\n      <td>I don't know about you but My family and I wil...</td>\n      <td>1</td>\n    </tr>\n    <tr>\n      <th>2</th>\n      <td>@MSignorile Immunizations should be mandatory....</td>\n      <td>2</td>\n    </tr>\n    <tr>\n      <th>3</th>\n      <td>President Obama spoke in favor of vaccination ...</td>\n      <td>0</td>\n    </tr>\n    <tr>\n      <th>4</th>\n      <td>\"@myfoxla: Arizona monitoring hundreds for mea...</td>\n      <td>0</td>\n    </tr>\n    <tr>\n      <th>...</th>\n      <td>...</td>\n      <td>...</td>\n    </tr>\n    <tr>\n      <th>15971</th>\n      <td>@Salon if u believe the anti-vax nutcases caus...</td>\n      <td>1</td>\n    </tr>\n    <tr>\n      <th>15972</th>\n      <td>How do you feel about parents who don't #vacci...</td>\n      <td>0</td>\n    </tr>\n    <tr>\n      <th>15973</th>\n      <td>70 Preschoolers Tested for Measles in Simi Val...</td>\n      <td>0</td>\n    </tr>\n    <tr>\n      <th>15974</th>\n      <td>Finance Minister: Budget offers room to procur...</td>\n      <td>0</td>\n    </tr>\n    <tr>\n      <th>15975</th>\n      <td>Are you up to date on vaccines? Take CDC’s vac...</td>\n      <td>2</td>\n    </tr>\n  </tbody>\n</table>\n<p>15976 rows × 2 columns</p>\n</div>"
     },
     "execution_count": 73,
     "metadata": {},
     "output_type": "execute_result"
    }
   ]
  },
  {
   "cell_type": "code",
   "execution_count": 74,
   "outputs": [
    {
     "data": {
      "text/plain": "              label\ncount  15976.000000\nmean       0.936592\nstd        0.930740\nmin        0.000000\n25%        0.000000\n50%        1.000000\n75%        2.000000\nmax        2.000000",
      "text/html": "<div>\n<style scoped>\n    .dataframe tbody tr th:only-of-type {\n        vertical-align: middle;\n    }\n\n    .dataframe tbody tr th {\n        vertical-align: top;\n    }\n\n    .dataframe thead th {\n        text-align: right;\n    }\n</style>\n<table border=\"1\" class=\"dataframe\">\n  <thead>\n    <tr style=\"text-align: right;\">\n      <th></th>\n      <th>label</th>\n    </tr>\n  </thead>\n  <tbody>\n    <tr>\n      <th>count</th>\n      <td>15976.000000</td>\n    </tr>\n    <tr>\n      <th>mean</th>\n      <td>0.936592</td>\n    </tr>\n    <tr>\n      <th>std</th>\n      <td>0.930740</td>\n    </tr>\n    <tr>\n      <th>min</th>\n      <td>0.000000</td>\n    </tr>\n    <tr>\n      <th>25%</th>\n      <td>0.000000</td>\n    </tr>\n    <tr>\n      <th>50%</th>\n      <td>1.000000</td>\n    </tr>\n    <tr>\n      <th>75%</th>\n      <td>2.000000</td>\n    </tr>\n    <tr>\n      <th>max</th>\n      <td>2.000000</td>\n    </tr>\n  </tbody>\n</table>\n</div>"
     },
     "execution_count": 74,
     "metadata": {},
     "output_type": "execute_result"
    }
   ],
   "source": [
    "train_df.describe()"
   ],
   "metadata": {
    "collapsed": false,
    "pycharm": {
     "name": "#%%\n"
    }
   }
  },
  {
   "cell_type": "code",
   "execution_count": 75,
   "outputs": [
    {
     "data": {
      "text/plain": "                                                  tweet  label\n0     @user They had a massive surge in with covid d...      1\n1     Required vaccines for school: Parents and guar...      0\n2     “@KCStar: Two more Johnson County children hav...      0\n3     NV can do better. Which states are the best (a...      2\n4     Nothing like killing ourselves w/ our own fear...      2\n...                                                 ...    ...\n2277  RT @abc7: Number of measles cases reported in ...      0\n2278  Evidence points to the idea that \"measles affe...      0\n2279  Where's @SavedYouAClick \"@voxdotcom: Why you s...      2\n2280  Some of my favorite people have autism. If tha...      2\n2281  Coronavirus: The married couple behind the suc...      0\n\n[2282 rows x 2 columns]",
      "text/html": "<div>\n<style scoped>\n    .dataframe tbody tr th:only-of-type {\n        vertical-align: middle;\n    }\n\n    .dataframe tbody tr th {\n        vertical-align: top;\n    }\n\n    .dataframe thead th {\n        text-align: right;\n    }\n</style>\n<table border=\"1\" class=\"dataframe\">\n  <thead>\n    <tr style=\"text-align: right;\">\n      <th></th>\n      <th>tweet</th>\n      <th>label</th>\n    </tr>\n  </thead>\n  <tbody>\n    <tr>\n      <th>0</th>\n      <td>@user They had a massive surge in with covid d...</td>\n      <td>1</td>\n    </tr>\n    <tr>\n      <th>1</th>\n      <td>Required vaccines for school: Parents and guar...</td>\n      <td>0</td>\n    </tr>\n    <tr>\n      <th>2</th>\n      <td>“@KCStar: Two more Johnson County children hav...</td>\n      <td>0</td>\n    </tr>\n    <tr>\n      <th>3</th>\n      <td>NV can do better. Which states are the best (a...</td>\n      <td>2</td>\n    </tr>\n    <tr>\n      <th>4</th>\n      <td>Nothing like killing ourselves w/ our own fear...</td>\n      <td>2</td>\n    </tr>\n    <tr>\n      <th>...</th>\n      <td>...</td>\n      <td>...</td>\n    </tr>\n    <tr>\n      <th>2277</th>\n      <td>RT @abc7: Number of measles cases reported in ...</td>\n      <td>0</td>\n    </tr>\n    <tr>\n      <th>2278</th>\n      <td>Evidence points to the idea that \"measles affe...</td>\n      <td>0</td>\n    </tr>\n    <tr>\n      <th>2279</th>\n      <td>Where's @SavedYouAClick \"@voxdotcom: Why you s...</td>\n      <td>2</td>\n    </tr>\n    <tr>\n      <th>2280</th>\n      <td>Some of my favorite people have autism. If tha...</td>\n      <td>2</td>\n    </tr>\n    <tr>\n      <th>2281</th>\n      <td>Coronavirus: The married couple behind the suc...</td>\n      <td>0</td>\n    </tr>\n  </tbody>\n</table>\n<p>2282 rows × 2 columns</p>\n</div>"
     },
     "execution_count": 75,
     "metadata": {},
     "output_type": "execute_result"
    }
   ],
   "source": [
    "test_df = pd.read_csv(\"VaccineSentimentDataset/vaccine_validation_set.csv\", index_col=0)\n",
    "test_df"
   ],
   "metadata": {
    "collapsed": false,
    "pycharm": {
     "name": "#%%\n"
    }
   }
  },
  {
   "cell_type": "code",
   "execution_count": 76,
   "outputs": [
    {
     "data": {
      "text/plain": "             label\ncount  2282.000000\nmean      0.936897\nstd       0.930960\nmin       0.000000\n25%       0.000000\n50%       1.000000\n75%       2.000000\nmax       2.000000",
      "text/html": "<div>\n<style scoped>\n    .dataframe tbody tr th:only-of-type {\n        vertical-align: middle;\n    }\n\n    .dataframe tbody tr th {\n        vertical-align: top;\n    }\n\n    .dataframe thead th {\n        text-align: right;\n    }\n</style>\n<table border=\"1\" class=\"dataframe\">\n  <thead>\n    <tr style=\"text-align: right;\">\n      <th></th>\n      <th>label</th>\n    </tr>\n  </thead>\n  <tbody>\n    <tr>\n      <th>count</th>\n      <td>2282.000000</td>\n    </tr>\n    <tr>\n      <th>mean</th>\n      <td>0.936897</td>\n    </tr>\n    <tr>\n      <th>std</th>\n      <td>0.930960</td>\n    </tr>\n    <tr>\n      <th>min</th>\n      <td>0.000000</td>\n    </tr>\n    <tr>\n      <th>25%</th>\n      <td>0.000000</td>\n    </tr>\n    <tr>\n      <th>50%</th>\n      <td>1.000000</td>\n    </tr>\n    <tr>\n      <th>75%</th>\n      <td>2.000000</td>\n    </tr>\n    <tr>\n      <th>max</th>\n      <td>2.000000</td>\n    </tr>\n  </tbody>\n</table>\n</div>"
     },
     "execution_count": 76,
     "metadata": {},
     "output_type": "execute_result"
    }
   ],
   "source": [
    "test_df.describe()"
   ],
   "metadata": {
    "collapsed": false,
    "pycharm": {
     "name": "#%%\n"
    }
   }
  },
  {
   "cell_type": "markdown",
   "source": [
    "## Visualize Data"
   ],
   "metadata": {
    "collapsed": false
   }
  },
  {
   "cell_type": "code",
   "execution_count": null,
   "outputs": [],
   "source": [
    "import seaborn as sn\n",
    "sn.countplot(x='label',data=train_df)"
   ],
   "metadata": {
    "collapsed": false,
    "pycharm": {
     "name": "#%%\n"
    }
   }
  },
  {
   "cell_type": "code",
   "execution_count": null,
   "outputs": [],
   "source": [
    "sn.countplot(x='label',data=test_df)"
   ],
   "metadata": {
    "collapsed": false,
    "pycharm": {
     "name": "#%%\n"
    }
   }
  },
  {
   "cell_type": "markdown",
   "metadata": {
    "id": "0njGkifQ-zrX"
   },
   "source": [
    "## Data Pre-processing"
   ]
  },
  {
   "cell_type": "code",
   "metadata": {
    "colab": {
     "base_uri": "https://localhost:8080/"
    },
    "id": "Uc2REn8u9w7b",
    "outputId": "a8021260-d31f-42e9-ec3b-e1321e626944"
   },
   "source": [
    "#Check for null values\n",
    "train_df.isnull().sum()"
   ],
   "execution_count": 77,
   "outputs": [
    {
     "data": {
      "text/plain": "tweet    0\nlabel    0\ndtype: int64"
     },
     "execution_count": 77,
     "metadata": {},
     "output_type": "execute_result"
    }
   ]
  },
  {
   "cell_type": "code",
   "execution_count": 78,
   "outputs": [
    {
     "data": {
      "text/plain": "tweet    0\nlabel    0\ndtype: int64"
     },
     "execution_count": 78,
     "metadata": {},
     "output_type": "execute_result"
    }
   ],
   "source": [
    "test_df.isnull().sum()"
   ],
   "metadata": {
    "collapsed": false,
    "pycharm": {
     "name": "#%%\n"
    }
   }
  },
  {
   "cell_type": "markdown",
   "source": [
    "#### Separating features from targets"
   ],
   "metadata": {
    "collapsed": false
   }
  },
  {
   "cell_type": "code",
   "metadata": {
    "id": "gyUAcnM__MRK"
   },
   "source": [
    "X_train = train_df.drop('label', axis=1)\n",
    "Y_train = train_df['label']\n",
    "X_train"
   ],
   "execution_count": 79,
   "outputs": [
    {
     "data": {
      "text/plain": "                                                   tweet\n0      Sip N Shop Come thru right now #Marjais #Popul...\n1      I don't know about you but My family and I wil...\n2      @MSignorile Immunizations should be mandatory....\n3      President Obama spoke in favor of vaccination ...\n4      \"@myfoxla: Arizona monitoring hundreds for mea...\n...                                                  ...\n15971  @Salon if u believe the anti-vax nutcases caus...\n15972  How do you feel about parents who don't #vacci...\n15973  70 Preschoolers Tested for Measles in Simi Val...\n15974  Finance Minister: Budget offers room to procur...\n15975  Are you up to date on vaccines? Take CDC’s vac...\n\n[15976 rows x 1 columns]",
      "text/html": "<div>\n<style scoped>\n    .dataframe tbody tr th:only-of-type {\n        vertical-align: middle;\n    }\n\n    .dataframe tbody tr th {\n        vertical-align: top;\n    }\n\n    .dataframe thead th {\n        text-align: right;\n    }\n</style>\n<table border=\"1\" class=\"dataframe\">\n  <thead>\n    <tr style=\"text-align: right;\">\n      <th></th>\n      <th>tweet</th>\n    </tr>\n  </thead>\n  <tbody>\n    <tr>\n      <th>0</th>\n      <td>Sip N Shop Come thru right now #Marjais #Popul...</td>\n    </tr>\n    <tr>\n      <th>1</th>\n      <td>I don't know about you but My family and I wil...</td>\n    </tr>\n    <tr>\n      <th>2</th>\n      <td>@MSignorile Immunizations should be mandatory....</td>\n    </tr>\n    <tr>\n      <th>3</th>\n      <td>President Obama spoke in favor of vaccination ...</td>\n    </tr>\n    <tr>\n      <th>4</th>\n      <td>\"@myfoxla: Arizona monitoring hundreds for mea...</td>\n    </tr>\n    <tr>\n      <th>...</th>\n      <td>...</td>\n    </tr>\n    <tr>\n      <th>15971</th>\n      <td>@Salon if u believe the anti-vax nutcases caus...</td>\n    </tr>\n    <tr>\n      <th>15972</th>\n      <td>How do you feel about parents who don't #vacci...</td>\n    </tr>\n    <tr>\n      <th>15973</th>\n      <td>70 Preschoolers Tested for Measles in Simi Val...</td>\n    </tr>\n    <tr>\n      <th>15974</th>\n      <td>Finance Minister: Budget offers room to procur...</td>\n    </tr>\n    <tr>\n      <th>15975</th>\n      <td>Are you up to date on vaccines? Take CDC’s vac...</td>\n    </tr>\n  </tbody>\n</table>\n<p>15976 rows × 1 columns</p>\n</div>"
     },
     "execution_count": 79,
     "metadata": {},
     "output_type": "execute_result"
    }
   ]
  },
  {
   "cell_type": "code",
   "execution_count": 80,
   "outputs": [
    {
     "data": {
      "text/plain": "0        0\n1        1\n2        2\n3        0\n4        0\n        ..\n15971    1\n15972    0\n15973    0\n15974    0\n15975    2\nName: label, Length: 15976, dtype: int64"
     },
     "execution_count": 80,
     "metadata": {},
     "output_type": "execute_result"
    }
   ],
   "source": [
    "Y_train"
   ],
   "metadata": {
    "collapsed": false,
    "pycharm": {
     "name": "#%%\n"
    }
   }
  },
  {
   "cell_type": "code",
   "execution_count": 81,
   "outputs": [
    {
     "data": {
      "text/plain": "                                                  tweet\n0     @user They had a massive surge in with covid d...\n1     Required vaccines for school: Parents and guar...\n2     “@KCStar: Two more Johnson County children hav...\n3     NV can do better. Which states are the best (a...\n4     Nothing like killing ourselves w/ our own fear...\n...                                                 ...\n2277  RT @abc7: Number of measles cases reported in ...\n2278  Evidence points to the idea that \"measles affe...\n2279  Where's @SavedYouAClick \"@voxdotcom: Why you s...\n2280  Some of my favorite people have autism. If tha...\n2281  Coronavirus: The married couple behind the suc...\n\n[2282 rows x 1 columns]",
      "text/html": "<div>\n<style scoped>\n    .dataframe tbody tr th:only-of-type {\n        vertical-align: middle;\n    }\n\n    .dataframe tbody tr th {\n        vertical-align: top;\n    }\n\n    .dataframe thead th {\n        text-align: right;\n    }\n</style>\n<table border=\"1\" class=\"dataframe\">\n  <thead>\n    <tr style=\"text-align: right;\">\n      <th></th>\n      <th>tweet</th>\n    </tr>\n  </thead>\n  <tbody>\n    <tr>\n      <th>0</th>\n      <td>@user They had a massive surge in with covid d...</td>\n    </tr>\n    <tr>\n      <th>1</th>\n      <td>Required vaccines for school: Parents and guar...</td>\n    </tr>\n    <tr>\n      <th>2</th>\n      <td>“@KCStar: Two more Johnson County children hav...</td>\n    </tr>\n    <tr>\n      <th>3</th>\n      <td>NV can do better. Which states are the best (a...</td>\n    </tr>\n    <tr>\n      <th>4</th>\n      <td>Nothing like killing ourselves w/ our own fear...</td>\n    </tr>\n    <tr>\n      <th>...</th>\n      <td>...</td>\n    </tr>\n    <tr>\n      <th>2277</th>\n      <td>RT @abc7: Number of measles cases reported in ...</td>\n    </tr>\n    <tr>\n      <th>2278</th>\n      <td>Evidence points to the idea that \"measles affe...</td>\n    </tr>\n    <tr>\n      <th>2279</th>\n      <td>Where's @SavedYouAClick \"@voxdotcom: Why you s...</td>\n    </tr>\n    <tr>\n      <th>2280</th>\n      <td>Some of my favorite people have autism. If tha...</td>\n    </tr>\n    <tr>\n      <th>2281</th>\n      <td>Coronavirus: The married couple behind the suc...</td>\n    </tr>\n  </tbody>\n</table>\n<p>2282 rows × 1 columns</p>\n</div>"
     },
     "execution_count": 81,
     "metadata": {},
     "output_type": "execute_result"
    }
   ],
   "source": [
    "X_test = test_df.drop('label', axis=1)\n",
    "Y_test = test_df['label']\n",
    "X_test"
   ],
   "metadata": {
    "collapsed": false,
    "pycharm": {
     "name": "#%%\n"
    }
   }
  },
  {
   "cell_type": "code",
   "execution_count": 82,
   "outputs": [
    {
     "data": {
      "text/plain": "0       1\n1       0\n2       0\n3       2\n4       2\n       ..\n2277    0\n2278    0\n2279    2\n2280    2\n2281    0\nName: label, Length: 2282, dtype: int64"
     },
     "execution_count": 82,
     "metadata": {},
     "output_type": "execute_result"
    }
   ],
   "source": [
    "Y_test"
   ],
   "metadata": {
    "collapsed": false,
    "pycharm": {
     "name": "#%%\n"
    }
   }
  },
  {
   "cell_type": "markdown",
   "source": [
    "#### Text pre-processing"
   ],
   "metadata": {
    "collapsed": false
   }
  },
  {
   "cell_type": "code",
   "execution_count": 95,
   "outputs": [],
   "source": [
    "from nltk.corpus import stopwords\n",
    "from collections import Counter\n",
    "from nltk import word_tokenize\n",
    "from textblob import TextBlob\n",
    "from emot import emo_unicode\n",
    "import re\n",
    "\n",
    "\n",
    "def preprocess(dataset):\n",
    "    # remove uppercase letters\n",
    "    dataset['tweet'] = dataset['tweet'].apply(lambda s: s.lower() if type(s) == str else s)\n",
    "\n",
    "    # convert emojis and emoticons to text\n",
    "    dataset['tweet'] = dataset['tweet'].apply(emojisToWords)\n",
    "    #dataset['tweet'] = dataset['tweet'].apply(emoticonsToWords)\n",
    "\n",
    "    # remove URLs\n",
    "    dataset['tweet'] = dataset['tweet'].replace(to_replace=r'^https?:\\/\\/.*[\\r\\n]*', value='', regex=True)\n",
    "\n",
    "    # remove numbers\n",
    "    dataset['tweet'] = dataset['tweet'].replace(to_replace=r'\\d+', value='', regex=True)\n",
    "\n",
    "    # remove \\n, \\u0111\n",
    "    dataset['tweet'] = dataset['tweet'].replace(to_replace='\\n', value='', regex=True)\n",
    "    dataset['tweet'] = dataset['tweet'].replace(to_replace='\\u0111', value='', regex=True)\n",
    "\n",
    "    # remove punctuation\n",
    "    dataset['tweet'] = dataset['tweet'].str.replace('[^\\w\\s]', '')  # replace(r'^https?:\\/\\/.*[\\r?\\n\\t@]*', '')\n",
    "\n",
    "    # remove stopwords\n",
    "    dataset['tweet'] = dataset['tweet'].apply(removeStopwords)\n",
    "\n",
    "    # removes most common words\n",
    "    cnt = findMostCommonWords(dataset)\n",
    "    dataset['tweet'] = dataset[\"tweet\"].apply(removeCommonWords)\n",
    "\n",
    "    # Rare word removal\n",
    "\n",
    "    # spelling correction\n",
    "    dataset['tweet'].apply(lambda x: str(TextBlob(x).correct()))\n",
    "\n",
    "    for entry in dataset:\n",
    "        # remove whitespaces\n",
    "        entry = entry.strip()\n",
    "        # remove stopwords and tokenize\n",
    "        tokens = word_tokenize(entry)\n",
    "        entry = [i for i in tokens if not i in stopwords]\n",
    "\n",
    "    return dataset\n",
    "\n",
    "    # remove symbols\n",
    "    # df['Comment'] = df['Comment'].replace(to_replace =r'([^\\s\\w]|_)+', value = '', regex = True)\n",
    "\n",
    "\n",
    "def emojisToWords(text):\n",
    "    for emot in emo_unicode.EMOJI_UNICODE:\n",
    "        text = text.replace(emot, \"_\".join(emo_unicode.EMOJI_UNICODE[emot].replace(\",\", \"\").replace(\":\", \"\").split()))\n",
    "        return text\n",
    "\n",
    "\n",
    "def emoticonsToWords(text):\n",
    "    for emot in emo_unicode.EMOTICONS_EMO:\n",
    "        text = re.sub(u'(' + emot + ')', \"_\".join(emo_unicode.EMOTICONS_EMO[emot].replace(\",\", \"\").split()), text)\n",
    "        return text\n",
    "\n",
    "\n",
    "def removeStopwords(text):\n",
    "    STOPWORDS = set(stopwords.words('english'))\n",
    "    return \" \".join([word for word in str(text).split() if\n",
    "                     word not in STOPWORDS])  # Applying the stopwords to 'text_punct' and store into 'text_stop'\n",
    "\n",
    "\n",
    "def findMostCommonWords(dataset):\n",
    "    cnt = Counter()\n",
    "    for text in dataset[\"text_stop\"].values:\n",
    "        for word in text.split():\n",
    "            cnt[word] += 1\n",
    "\n",
    "    return cnt\n",
    "\n",
    "\n",
    "def removeCommonWords(text, toRemove, cnt):\n",
    "    return \" \".join([word for word in str(text).split() if word not\n",
    "                     in cnt.most_common(toRemove)])\n"
   ],
   "metadata": {
    "collapsed": false,
    "pycharm": {
     "name": "#%%\n"
    }
   }
  },
  {
   "cell_type": "code",
   "execution_count": null,
   "outputs": [
    {
     "name": "stderr",
     "output_type": "stream",
     "text": [
      "/tmp/ipykernel_38215/455184214.py:29: FutureWarning: The default value of regex will change from True to False in a future version.\n",
      "  dataset['tweet'] = dataset['tweet'].str.replace('[^\\w\\s]', '')  # replace(r'^https?:\\/\\/.*[\\r?\\n\\t@]*', '')\n"
     ]
    }
   ],
   "source": [
    "from nltk.corpus import stopwords\n",
    "from collections import Counter\n",
    "from nltk import word_tokenize\n",
    "from textblob import TextBlob\n",
    "from emot import emo_unicode\n",
    "import re\n",
    "\n",
    "from Preprocess import *\n",
    "\n",
    "def preprocess(dataset):\n",
    "\n",
    "    # remove uppercase letters\n",
    "    dataset['tweet'] = dataset['tweet'].apply(lambda s: s.lower() if type(s) == str else s)\n",
    "\n",
    "    # convert emojis and emoticons to text\n",
    "    dataset['tweet'] = dataset['tweet'].apply(emojisToWords)\n",
    "    #dataset['tweet'] = dataset['tweet'].apply(emoticonsToWords)\n",
    "\n",
    "    # remove URLs\n",
    "    dataset['tweet'] = dataset['tweet'].replace(to_replace=r'^https?:\\/\\/.*[\\r\\n]*', value='', regex=True)\n",
    "\n",
    "    # remove numbers\n",
    "    dataset['tweet'] = dataset['tweet'].replace(to_replace=r'\\d+', value='', regex=True)\n",
    "\n",
    "    # remove \\n, \\u0111\n",
    "    dataset['tweet'] = dataset['tweet'].replace(to_replace='\\n', value='', regex=True)\n",
    "    dataset['tweet'] = dataset['tweet'].replace(to_replace='\\u0111', value='', regex=True)\n",
    "\n",
    "    # remove punctuation\n",
    "    dataset['tweet'] = dataset['tweet'].str.replace('[^\\w\\s]', '')  # replace(r'^https?:\\/\\/.*[\\r?\\n\\t@]*', '')\n",
    "\n",
    "    # remove stopwords\n",
    "    dataset['tweet'] = dataset['tweet'].apply(removeStopwords)\n",
    "\n",
    "    # removes most common words\n",
    "    #cnt = findMostCommonWords(dataset)\n",
    "    #dataset['tweet'] = dataset[\"tweet\"].apply(removeCommonWords)\n",
    "\n",
    "    # Rare word removal\n",
    "\n",
    "    # spelling correction\n",
    "    dataset['tweet'].apply(lambda x: str(TextBlob(x).correct()))\n",
    "\n",
    "    return dataset\n",
    "\n",
    "X_train = preprocess(X_train)\n",
    "X_train"
   ],
   "metadata": {
    "collapsed": false,
    "pycharm": {
     "name": "#%%\n",
     "is_executing": true
    }
   }
  },
  {
   "cell_type": "code",
   "execution_count": null,
   "outputs": [],
   "source": [
    "X_test = preprocess(X_test)\n",
    "X_test"
   ],
   "metadata": {
    "collapsed": false,
    "pycharm": {
     "name": "#%%\n"
    }
   }
  },
  {
   "cell_type": "markdown",
   "source": [
    "#### Vectorize words"
   ],
   "metadata": {
    "collapsed": false
   }
  },
  {
   "cell_type": "code",
   "execution_count": null,
   "outputs": [],
   "source": [
    "from sklearn.feature_extraction.text import CountVectorizer\n",
    "\n",
    "#with unigrams without any optimization for now\n",
    "\n",
    "vectorizer = CountVectorizer()\n",
    "vectorizer.fit(X_train['tweet'])\n",
    "\n",
    "train_vec = vectorizer.transform(X_train['tweet'])\n",
    "print(vectorizer.get_feature_names())"
   ],
   "metadata": {
    "collapsed": false,
    "pycharm": {
     "name": "#%%\n"
    }
   }
  },
  {
   "cell_type": "code",
   "execution_count": null,
   "outputs": [],
   "source": [
    "#with unigrams without any optimization for now\n",
    "\n",
    "vectorizer = CountVectorizer()\n",
    "vectorizer.fit(X_test['tweet'])\n",
    "\n",
    "test_vec = vectorizer.transform(X_test['tweet'])\n",
    "print(vectorizer.get_feature_names())"
   ],
   "metadata": {
    "collapsed": false,
    "pycharm": {
     "name": "#%%\n"
    }
   }
  },
  {
   "cell_type": "markdown",
   "source": [],
   "metadata": {
    "collapsed": false
   }
  },
  {
   "cell_type": "markdown",
   "metadata": {
    "id": "fMiIvmQKBSDm"
   },
   "source": [
    "## Train model"
   ]
  },
  {
   "cell_type": "code",
   "metadata": {
    "colab": {
     "base_uri": "https://localhost:8080/"
    },
    "id": "-65fnO6RBWU3",
    "outputId": "de5f0fee-b44c-4f22-87f3-db129f13dd2b"
   },
   "source": [
    "#We will experiment with Ridge Regression\n",
    "clf = LogisticRegression()\n",
    "clf.fit(train_vec, Y_train)"
   ],
   "execution_count": null,
   "outputs": []
  },
  {
   "cell_type": "markdown",
   "metadata": {
    "id": "33fbT1geB4vG"
   },
   "source": [
    "## Evaluate model's performance"
   ]
  },
  {
   "cell_type": "code",
   "metadata": {
    "colab": {
     "base_uri": "https://localhost:8080/"
    },
    "id": "5TE5UCDlB7hz",
    "outputId": "e6f688da-319e-4590-e903-32108ea57978"
   },
   "source": [
    "# Now that we have trained the classifer, we can make predictions on the unseen data\n",
    "Y_test_pred = clf.predict(test_vec)\n",
    "print(Y_test_pred)\n",
    "# Let's also make predictions on the train set for reference\n",
    "Y_train_pred = clf.predict(train_vec)"
   ],
   "execution_count": null,
   "outputs": []
  },
  {
   "cell_type": "code",
   "metadata": {
    "colab": {
     "base_uri": "https://localhost:8080/"
    },
    "id": "mraBMAivCR8d",
    "outputId": "f5b37c30-7d26-4a3d-91b3-34a5ade706ea"
   },
   "source": [
    "test_mse = mean_squared_error(Y_test, Y_test_pred)\n",
    "print(f\"Our classifier achieves a MSE of {test_mse:.2f} on the test set\")\n",
    "train_mse = mean_squared_error(Y_train, Y_train_pred)\n",
    "print(f\"Our classifier achieves a MSE of {train_mse:.2f} on the train set\")"
   ],
   "execution_count": null,
   "outputs": []
  },
  {
   "cell_type": "markdown",
   "metadata": {
    "id": "821WmssMIdbX"
   },
   "source": [
    "## Notes\n",
    "\n",
    "* Scaling features\n",
    "* Experimenting with different models \n",
    "* Using different hyperparameters for each model\n",
    "* Testing which of the features are really helpful\n",
    "* Creating additional synthetic features\n",
    "* And many more...\n"
   ]
  }
 ]
}